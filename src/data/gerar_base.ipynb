{
 "cells": [
  {
   "cell_type": "code",
   "execution_count": 71,
   "id": "26a12099",
   "metadata": {},
   "outputs": [],
   "source": [
    "import sqlalchemy\n",
    "from sqlalchemy.sql.schema import Column\n",
    "from sqlalchemy import String, Integer\n",
    "from sqlalchemy.orm import declarative_base, sessionmaker\n",
    "import numpy as np\n",
    "import requests\n",
    "import pandas as pd\n",
    "from tqdm._tqdm_notebook import tqdm\n",
    "#!pip3 install openpyxl\n",
    "from sqlalchemy.orm import sessionmaker"
   ]
  },
  {
   "cell_type": "code",
   "execution_count": 72,
   "id": "bd6e002a",
   "metadata": {},
   "outputs": [],
   "source": [
    "engine = sqlalchemy.create_engine('sqlite:///natorMaps.db', echo=False)\n",
    "Base = declarative_base()\n",
    "class Municipio(Base):\n",
    "    __tablename__ = 'municipio' # campo obrigatório\n",
    "    id = Column(Integer, primary_key=True) # campo obrigatório\n",
    "    malha = Column(String(100000))\n",
    "    malha_g = Column(String(100000))\n",
    "    view_box_malha = Column(String(100))\n",
    "    nome_municipio = Column(String(100))\n",
    "    codigo_ibge = Column(String(100))\n",
    "    cor_do_municipio = Column(String(100))\n",
    "    name_funcao_click = Column(String(100))\n",
    "    caixa_de_texto = Column(String(400))\n",
    "    ano_de_referencia = Column(String(20))\n",
    "    uf = Column(String(20))\n",
    "    codigo_uf = Column(Integer)\n",
    "    populacao_estimada = Column(Integer)"
   ]
  },
  {
   "cell_type": "code",
   "execution_count": 74,
   "id": "e7650614",
   "metadata": {},
   "outputs": [],
   "source": [
    "malhas = np.load('malhas_brazil.npy', allow_pickle='TRUE').all()\n"
   ]
  },
  {
   "cell_type": "code",
   "execution_count": 75,
   "id": "5d439164",
   "metadata": {},
   "outputs": [],
   "source": [
    "#dados = np.load(\"\", allow_pickle=True).all()\n",
    "df = pd.read_excel(\n",
    "    \"popBR.xls\",\n",
    "    sheet_name='Municípios',\n",
    "    header=1,\n",
    "    nrows=5570, \n",
    "    dtype = {'UF': str, 'COD. UF': str, 'COD. MUNIC': str}\n",
    ")\n",
    "df['cod_ibge'] = df[[\"COD. UF\",\"COD. MUNIC\"]].T.apply(lambda x: x[0]+x[1])"
   ]
  },
  {
   "cell_type": "code",
   "execution_count": 94,
   "id": "71585c45",
   "metadata": {},
   "outputs": [
    {
     "data": {
      "application/vnd.jupyter.widget-view+json": {
       "model_id": "4b0f8aa674864f798d29b60086d3c1fc",
       "version_major": 2,
       "version_minor": 0
      },
      "text/plain": [
       "0it [00:00, ?it/s]"
      ]
     },
     "metadata": {},
     "output_type": "display_data"
    },
    {
     "name": "stdout",
     "output_type": "stream",
     "text": [
      ".................................................................................................................................................................................................................................................................................................................................................................................................................................................................................................................................................................................................................................................................................................................."
     ]
    }
   ],
   "source": [
    "Session = sessionmaker(bind=engine)\n",
    "session = Session()\n",
    "for i,row in tqdm(df.iterrows()):\n",
    "    try:\n",
    "        uf,cod_uf,cod_mun,nome_municipio,populacao_estimada,codigo_ibge = row.values\n",
    "        malha = malhas[codigo_ibge]\n",
    "        start,end = malha.find('<g'),malha.find('</g>')\n",
    "        viewbox = malha.split('viewBox=\"')[1].split('\" stroke-linecap=')[0]\n",
    "        #cria o objeto para que em seguida seja salvo no banco.\n",
    "        municipio = Municipio(\n",
    "            id = codigo_ibge,\n",
    "            malha = malha,\n",
    "            malha_g = malha[start:end+4],\n",
    "            view_box_malha = viewbox,\n",
    "            nome_municipio = nome_municipio,\n",
    "            codigo_ibge = codigo_ibge,\n",
    "            cor_do_municipio = '',\n",
    "            name_funcao_click = '',\n",
    "            caixa_de_texto = '',\n",
    "            ano_de_referencia = 2021,\n",
    "            uf = uf,\n",
    "            codigo_uf = cod_uf,\n",
    "            populacao_estimada = populacao_estimada,\n",
    "        )\n",
    "        #verifica a existencia do dado na base\n",
    "        verify = session.query(Municipio).filter_by(\n",
    "            id = codigo_ibge,\n",
    "            codigo_ibge = codigo_ibge,\n",
    "            ano_de_referencia = 2021,\n",
    "            uf = uf,\n",
    "            codigo_uf = cod_uf\n",
    "        ).first()\n",
    "        if not verify:\n",
    "            print('*****',nome_municipio)\n",
    "            session.add(municipio)\n",
    "    except:\n",
    "        print('',end='.')\n",
    "    #print(municipio.__dict__)\n",
    "    #break\n",
    "session.commit() #Salvando o dado no banco de dados "
   ]
  },
  {
   "cell_type": "code",
   "execution_count": 95,
   "id": "c365c691",
   "metadata": {},
   "outputs": [],
   "source": [
    "municipios = session.query(Municipio).filter_by(uf='CE')\n"
   ]
  },
  {
   "cell_type": "code",
   "execution_count": 37,
   "id": "a9ea078b",
   "metadata": {},
   "outputs": [],
   "source": [
    "#municipios.all()[0].__dict__"
   ]
  },
  {
   "cell_type": "code",
   "execution_count": 91,
   "id": "3cafadac",
   "metadata": {},
   "outputs": [
    {
     "data": {
      "text/plain": [
       "<sqlalchemy.orm.session.Session at 0x129b44910>"
      ]
     },
     "execution_count": 91,
     "metadata": {},
     "output_type": "execute_result"
    }
   ],
   "source": [
    "session"
   ]
  },
  {
   "cell_type": "code",
   "execution_count": null,
   "id": "10227844",
   "metadata": {},
   "outputs": [],
   "source": []
  },
  {
   "cell_type": "code",
   "execution_count": null,
   "id": "1f0ac2b9",
   "metadata": {},
   "outputs": [],
   "source": []
  },
  {
   "cell_type": "code",
   "execution_count": null,
   "id": "d944c6a3",
   "metadata": {},
   "outputs": [],
   "source": [
    "#list(df.itertuples())"
   ]
  },
  {
   "cell_type": "code",
   "execution_count": null,
   "id": "f6ccf406",
   "metadata": {},
   "outputs": [],
   "source": [
    "#!pip install SQLAlchemy"
   ]
  },
  {
   "cell_type": "code",
   "execution_count": null,
   "id": "ff186473",
   "metadata": {},
   "outputs": [],
   "source": []
  },
  {
   "cell_type": "code",
   "execution_count": null,
   "id": "313116fd",
   "metadata": {},
   "outputs": [],
   "source": []
  },
  {
   "cell_type": "code",
   "execution_count": null,
   "id": "cbcd6863",
   "metadata": {},
   "outputs": [],
   "source": []
  },
  {
   "cell_type": "code",
   "execution_count": null,
   "id": "253119bd",
   "metadata": {},
   "outputs": [],
   "source": []
  },
  {
   "cell_type": "code",
   "execution_count": null,
   "id": "9ed11807",
   "metadata": {},
   "outputs": [],
   "source": []
  },
  {
   "cell_type": "code",
   "execution_count": null,
   "id": "3017b2b4",
   "metadata": {},
   "outputs": [],
   "source": []
  },
  {
   "cell_type": "code",
   "execution_count": null,
   "id": "9c547e6c",
   "metadata": {},
   "outputs": [],
   "source": []
  },
  {
   "cell_type": "code",
   "execution_count": null,
   "id": "66ae265f",
   "metadata": {},
   "outputs": [],
   "source": []
  },
  {
   "cell_type": "code",
   "execution_count": null,
   "id": "60f80701",
   "metadata": {},
   "outputs": [],
   "source": [
    "import os \n",
    "os.listdir()"
   ]
  },
  {
   "cell_type": "code",
   "execution_count": null,
   "id": "cd3771c6",
   "metadata": {},
   "outputs": [],
   "source": [
    "#whatsapp://send?phone=+14155238886&text=join%20once-shoe"
   ]
  }
 ],
 "metadata": {
  "kernelspec": {
   "display_name": "Python 3.9 (tensorflow)",
   "language": "python",
   "name": "tensorflow"
  },
  "language_info": {
   "codemirror_mode": {
    "name": "ipython",
    "version": 3
   },
   "file_extension": ".py",
   "mimetype": "text/x-python",
   "name": "python",
   "nbconvert_exporter": "python",
   "pygments_lexer": "ipython3",
   "version": "3.9.15"
  }
 },
 "nbformat": 4,
 "nbformat_minor": 5
}
