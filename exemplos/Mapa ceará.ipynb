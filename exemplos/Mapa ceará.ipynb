{
 "cells": [
  {
   "cell_type": "code",
   "execution_count": 1,
   "id": "4b2687bf",
   "metadata": {},
   "outputs": [],
   "source": [
    "import pandas as pd\n",
    "from natorMaps import NatorMaps"
   ]
  },
  {
   "cell_type": "code",
   "execution_count": 2,
   "id": "092ae7e8",
   "metadata": {},
   "outputs": [],
   "source": [
    "df1 = pd.read_html('http://cat.oriontec.com.br/~thotau/help/2.0/Thotau/CEARA.html')[2]\n",
    "df1 = df1.rename(columns=df1.iloc[0].to_dict()).iloc[1:]\n",
    "df2 = df1[['CÓDIGO IBGE','NOME DO MUNICÍPIO']]\n",
    "df2 = df2.rename(columns={'CÓDIGO IBGE':'code','NOME DO MUNICÍPIO':'city'}).drop_duplicates()\n",
    "df2['fill']       = '#51A3A3'\n",
    "df2['city'] = df2['city'].apply(lambda x: x.encode('utf8').decode('iso-8859-1'))"
   ]
  },
  {
   "cell_type": "code",
   "execution_count": 3,
   "id": "200d2e7a",
   "metadata": {},
   "outputs": [
    {
     "data": {
      "text/html": [
       "<div>\n",
       "<style scoped>\n",
       "    .dataframe tbody tr th:only-of-type {\n",
       "        vertical-align: middle;\n",
       "    }\n",
       "\n",
       "    .dataframe tbody tr th {\n",
       "        vertical-align: top;\n",
       "    }\n",
       "\n",
       "    .dataframe thead th {\n",
       "        text-align: right;\n",
       "    }\n",
       "</style>\n",
       "<table border=\"1\" class=\"dataframe\">\n",
       "  <thead>\n",
       "    <tr style=\"text-align: right;\">\n",
       "      <th></th>\n",
       "      <th>code</th>\n",
       "      <th>city</th>\n",
       "      <th>fill</th>\n",
       "    </tr>\n",
       "  </thead>\n",
       "  <tbody>\n",
       "    <tr>\n",
       "      <th>1</th>\n",
       "      <td>2300200</td>\n",
       "      <td>AcaraÃº</td>\n",
       "      <td>#51A3A3</td>\n",
       "    </tr>\n",
       "    <tr>\n",
       "      <th>5</th>\n",
       "      <td>2302057</td>\n",
       "      <td>Barroquinha</td>\n",
       "      <td>#51A3A3</td>\n",
       "    </tr>\n",
       "    <tr>\n",
       "      <th>8</th>\n",
       "      <td>2302305</td>\n",
       "      <td>Bela Cruz</td>\n",
       "      <td>#51A3A3</td>\n",
       "    </tr>\n",
       "    <tr>\n",
       "      <th>10</th>\n",
       "      <td>2302602</td>\n",
       "      <td>Camocim</td>\n",
       "      <td>#51A3A3</td>\n",
       "    </tr>\n",
       "    <tr>\n",
       "      <th>13</th>\n",
       "      <td>2303907</td>\n",
       "      <td>Chaval</td>\n",
       "      <td>#51A3A3</td>\n",
       "    </tr>\n",
       "  </tbody>\n",
       "</table>\n",
       "</div>"
      ],
      "text/plain": [
       "       code         city     fill\n",
       "1   2300200      AcaraÃº  #51A3A3\n",
       "5   2302057  Barroquinha  #51A3A3\n",
       "8   2302305    Bela Cruz  #51A3A3\n",
       "10  2302602      Camocim  #51A3A3\n",
       "13  2303907       Chaval  #51A3A3"
      ]
     },
     "execution_count": 3,
     "metadata": {},
     "output_type": "execute_result"
    }
   ],
   "source": [
    "df2.head(5)"
   ]
  },
  {
   "cell_type": "code",
   "execution_count": 4,
   "id": "dfbd320f",
   "metadata": {},
   "outputs": [
    {
     "data": {
      "application/vnd.jupyter.widget-view+json": {
       "model_id": "4c307d3dd9814d53a9147c40567aad1d",
       "version_major": 2,
       "version_minor": 0
      },
      "text/plain": [
       "  0%|          | 0/184 [00:00<?, ?it/s]"
      ]
     },
     "metadata": {},
     "output_type": "display_data"
    },
    {
     "name": "stdout",
     "output_type": "stream",
     "text": [
      "arquivo ceara1.svg salvo com sucesso\n"
     ]
    }
   ],
   "source": [
    "mapCities = NatorMaps.MapCities()\n",
    "mapCities.to_svg(df_cities=df2,path_name_file='ceara1',viewBox='viewBox=\"-41.4233 2.7843 4.1706 5.0733\"')"
   ]
  },
  {
   "cell_type": "code",
   "execution_count": 11,
   "id": "20a87701",
   "metadata": {},
   "outputs": [],
   "source": [
    "#import matplotlib.pyplot as plt\n",
    "#earth   = plt.imread('ceara1.svg')\n",
    "#fig, ax = plt.subplots()\n",
    "#im      = ax.imshow(earth)\n",
    "#plt.show()"
   ]
  },
  {
   "cell_type": "code",
   "execution_count": 9,
   "id": "6dcbb0fe",
   "metadata": {},
   "outputs": [
    {
     "ename": "UnidentifiedImageError",
     "evalue": "cannot identify image file 'piaui1.svg'",
     "output_type": "error",
     "traceback": [
      "\u001b[1;31m---------------------------------------------------------------------------\u001b[0m",
      "\u001b[1;31mUnidentifiedImageError\u001b[0m                    Traceback (most recent call last)",
      "\u001b[1;32m<ipython-input-9-7f576ad68ef4>\u001b[0m in \u001b[0;36m<module>\u001b[1;34m\u001b[0m\n\u001b[0;32m      1\u001b[0m \u001b[1;32mfrom\u001b[0m \u001b[0mPIL\u001b[0m \u001b[1;32mimport\u001b[0m \u001b[0mImage\u001b[0m\u001b[1;33m\u001b[0m\u001b[1;33m\u001b[0m\u001b[0m\n\u001b[0;32m      2\u001b[0m \u001b[1;33m\u001b[0m\u001b[0m\n\u001b[1;32m----> 3\u001b[1;33m \u001b[0mimage\u001b[0m\u001b[1;33m=\u001b[0m\u001b[0mImage\u001b[0m\u001b[1;33m.\u001b[0m\u001b[0mopen\u001b[0m\u001b[1;33m(\u001b[0m\u001b[1;34m'piaui1.svg'\u001b[0m\u001b[1;33m)\u001b[0m\u001b[1;33m\u001b[0m\u001b[1;33m\u001b[0m\u001b[0m\n\u001b[0m",
      "\u001b[1;32m~\\anaconda3\\lib\\site-packages\\PIL\\Image.py\u001b[0m in \u001b[0;36mopen\u001b[1;34m(fp, mode, formats)\u001b[0m\n\u001b[0;32m   2965\u001b[0m     \u001b[1;32mfor\u001b[0m \u001b[0mmessage\u001b[0m \u001b[1;32min\u001b[0m \u001b[0maccept_warnings\u001b[0m\u001b[1;33m:\u001b[0m\u001b[1;33m\u001b[0m\u001b[1;33m\u001b[0m\u001b[0m\n\u001b[0;32m   2966\u001b[0m         \u001b[0mwarnings\u001b[0m\u001b[1;33m.\u001b[0m\u001b[0mwarn\u001b[0m\u001b[1;33m(\u001b[0m\u001b[0mmessage\u001b[0m\u001b[1;33m)\u001b[0m\u001b[1;33m\u001b[0m\u001b[1;33m\u001b[0m\u001b[0m\n\u001b[1;32m-> 2967\u001b[1;33m     raise UnidentifiedImageError(\n\u001b[0m\u001b[0;32m   2968\u001b[0m         \u001b[1;34m\"cannot identify image file %r\"\u001b[0m \u001b[1;33m%\u001b[0m \u001b[1;33m(\u001b[0m\u001b[0mfilename\u001b[0m \u001b[1;32mif\u001b[0m \u001b[0mfilename\u001b[0m \u001b[1;32melse\u001b[0m \u001b[0mfp\u001b[0m\u001b[1;33m)\u001b[0m\u001b[1;33m\u001b[0m\u001b[1;33m\u001b[0m\u001b[0m\n\u001b[0;32m   2969\u001b[0m     )\n",
      "\u001b[1;31mUnidentifiedImageError\u001b[0m: cannot identify image file 'piaui1.svg'"
     ]
    }
   ],
   "source": [
    "from PIL import Image\n",
    "\n",
    "image=Image.open('piaui1.svg')"
   ]
  },
  {
   "cell_type": "code",
   "execution_count": 3,
   "id": "c00bc95a",
   "metadata": {},
   "outputs": [
    {
     "name": "stdout",
     "output_type": "stream",
     "text": [
      "Requirement already satisfied: pillow in c:\\users\\trisna\\anaconda3\\lib\\site-packages (8.2.0)\n"
     ]
    }
   ],
   "source": [
    "!pip install pillow"
   ]
  }
 ],
 "metadata": {
  "kernelspec": {
   "display_name": "Python 3",
   "language": "python",
   "name": "python3"
  },
  "language_info": {
   "codemirror_mode": {
    "name": "ipython",
    "version": 3
   },
   "file_extension": ".py",
   "mimetype": "text/x-python",
   "name": "python",
   "nbconvert_exporter": "python",
   "pygments_lexer": "ipython3",
   "version": "3.8.8"
  }
 },
 "nbformat": 4,
 "nbformat_minor": 5
}
