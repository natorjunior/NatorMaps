{
 "cells": [
  {
   "cell_type": "code",
   "execution_count": 1,
   "id": "ac508a82",
   "metadata": {},
   "outputs": [],
   "source": [
    "import pandas as pd\n",
    "from natorMaps import NatorMaps"
   ]
  },
  {
   "cell_type": "code",
   "execution_count": 2,
   "id": "b6aba69f",
   "metadata": {},
   "outputs": [],
   "source": [
    "dfce = pd.read_html('http://cat.oriontec.com.br/~thotau/help/2.0/Thotau/CEARA.html')[2]\n",
    "dfce = dfce.rename(columns=dfce.iloc[0].to_dict()).iloc[1:]\n",
    "dfce = dfce[['CÓDIGO IBGE','NOME DO MUNICÍPIO']]\n",
    "dfce = dfce.rename(columns={'CÓDIGO IBGE':'code','NOME DO MUNICÍPIO':'city'}).drop_duplicates()\n",
    "dfce['fill']       = '#51A3A3'\n",
    "dfce['city'] = dfce['city'].apply(lambda x: x.encode('utf8').decode('iso-8859-1'))"
   ]
  },
  {
   "cell_type": "code",
   "execution_count": 3,
   "id": "f29a0aaa",
   "metadata": {},
   "outputs": [],
   "source": [
    "dfpi = pd.read_html('http://cat.oriontec.com.br/~thotau/help/2.0/Thotau/PIAUI.html')[2]\n",
    "dfpi = dfpi.rename(columns=dfpi.iloc[0].to_dict()).iloc[1:]\n",
    "dfpi = dfpi[['CÓDIGO IBGE','NOME DO MUNICÍPIO']]\n",
    "dfpi = dfpi.rename(columns={'CÓDIGO IBGE':'code','NOME DO MUNICÍPIO':'city'}).drop_duplicates()\n",
    "dfpi['fill']       = '#51A3A3'\n",
    "dfpi['city'] = dfpi['city'].apply(lambda x: x.encode('utf8').decode('iso-8859-1'))"
   ]
  },
  {
   "cell_type": "code",
   "execution_count": 4,
   "id": "c091ddcd",
   "metadata": {},
   "outputs": [],
   "source": [
    "df_ce_pi = dfce.append(dfpi)"
   ]
  },
  {
   "cell_type": "code",
   "execution_count": 5,
   "id": "a33b82f6",
   "metadata": {},
   "outputs": [
    {
     "data": {
      "application/vnd.jupyter.widget-view+json": {
       "model_id": "2d059fd41b924b2dbf90e6adb0109c94",
       "version_major": 2,
       "version_minor": 0
      },
      "text/plain": [
       "  0%|          | 0/407 [00:00<?, ?it/s]"
      ]
     },
     "metadata": {},
     "output_type": "display_data"
    },
    {
     "name": "stdout",
     "output_type": "stream",
     "text": [
      "arquivo ce-pi.svg salvo com sucesso\n"
     ]
    }
   ],
   "source": [
    "mapCities = NatorMaps.MapCities()\n",
    "mapCities.to_svg(df_cities=df_ce_pi,path_name_file='ce-pi',viewBox='viewBox=\"-46.0282 2.7499 5.657699999999998 12.1789\"')"
   ]
  }
 ],
 "metadata": {
  "kernelspec": {
   "display_name": "Python 3",
   "language": "python",
   "name": "python3"
  },
  "language_info": {
   "codemirror_mode": {
    "name": "ipython",
    "version": 3
   },
   "file_extension": ".py",
   "mimetype": "text/x-python",
   "name": "python",
   "nbconvert_exporter": "python",
   "pygments_lexer": "ipython3",
   "version": "3.8.8"
  }
 },
 "nbformat": 4,
 "nbformat_minor": 5
}
