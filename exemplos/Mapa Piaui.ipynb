{
 "cells": [
  {
   "cell_type": "code",
   "execution_count": 1,
   "id": "3831f8e3",
   "metadata": {},
   "outputs": [],
   "source": [
    "import pandas as pd\n",
    "from natorMaps import NatorMaps"
   ]
  },
  {
   "cell_type": "code",
   "execution_count": 2,
   "id": "8b71f6cc",
   "metadata": {},
   "outputs": [],
   "source": [
    "df1 = pd.read_html('http://cat.oriontec.com.br/~thotau/help/2.0/Thotau/PIAUI.html')[2]\n",
    "df1 = df1.rename(columns=df1.iloc[0].to_dict()).iloc[1:]\n",
    "df2 = df1[['CÓDIGO IBGE','NOME DO MUNICÍPIO']]\n",
    "df2 = df2.rename(columns={'CÓDIGO IBGE':'code','NOME DO MUNICÍPIO':'city'}).drop_duplicates()\n",
    "df2['fill']       = '#51A3A3'\n",
    "df2['city'] = df2['city'].apply(lambda x: x.encode('utf8').decode('iso-8859-1'))"
   ]
  },
  {
   "cell_type": "code",
   "execution_count": 3,
   "id": "9ac8d58e",
   "metadata": {},
   "outputs": [
    {
     "data": {
      "application/vnd.jupyter.widget-view+json": {
       "model_id": "3912c643836f4637baf8f44dd3486c27",
       "version_major": 2,
       "version_minor": 0
      },
      "text/plain": [
       "  0%|          | 0/223 [00:00<?, ?it/s]"
      ]
     },
     "metadata": {},
     "output_type": "display_data"
    },
    {
     "name": "stdout",
     "output_type": "stream",
     "text": [
      "arquivo piaui1.svg salvo com sucesso\n"
     ]
    }
   ],
   "source": [
    "mapCities = NatorMaps.MapCities()\n",
    "mapCities.to_svg(df_cities=df2,path_name_file='piaui1',viewBox='viewBox=\"-46.0282 2.7499 5.657699999999998 8.1789\"')"
   ]
  },
  {
   "cell_type": "code",
   "execution_count": null,
   "id": "7b5199f7",
   "metadata": {},
   "outputs": [],
   "source": []
  }
 ],
 "metadata": {
  "kernelspec": {
   "display_name": "Python 3",
   "language": "python",
   "name": "python3"
  },
  "language_info": {
   "codemirror_mode": {
    "name": "ipython",
    "version": 3
   },
   "file_extension": ".py",
   "mimetype": "text/x-python",
   "name": "python",
   "nbconvert_exporter": "python",
   "pygments_lexer": "ipython3",
   "version": "3.8.8"
  }
 },
 "nbformat": 4,
 "nbformat_minor": 5
}
